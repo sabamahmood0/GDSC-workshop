{
 "cells": [
  {
   "cell_type": "markdown",
   "id": "f3f9cba0",
   "metadata": {},
   "source": [
    "#Variable assignment\n",
    "#Commenting\n",
    "#Basic data types"
   ]
  },
  {
   "cell_type": "code",
   "execution_count": 2,
   "id": "1e1addc7",
   "metadata": {},
   "outputs": [
    {
     "name": "stdout",
     "output_type": "stream",
     "text": [
      "123\n"
     ]
    }
   ],
   "source": [
    "#Integer\n",
    "number = 123\n",
    "print(number)"
   ]
  },
  {
   "cell_type": "code",
   "execution_count": 3,
   "id": "acdda83c",
   "metadata": {},
   "outputs": [
    {
     "name": "stdout",
     "output_type": "stream",
     "text": [
      "Saba\n"
     ]
    }
   ],
   "source": [
    "#String\n",
    "name = \"Saba\"\n",
    "print(name)"
   ]
  },
  {
   "cell_type": "code",
   "execution_count": 4,
   "id": "f17674c4",
   "metadata": {},
   "outputs": [
    {
     "name": "stdout",
     "output_type": "stream",
     "text": [
      "True\n"
     ]
    }
   ],
   "source": [
    "#Boolean\n",
    "a = True\n",
    "print(a)"
   ]
  },
  {
   "cell_type": "code",
   "execution_count": 5,
   "id": "998e5ee1",
   "metadata": {},
   "outputs": [
    {
     "name": "stdout",
     "output_type": "stream",
     "text": [
      "1.3743\n"
     ]
    }
   ],
   "source": [
    "#Float\n",
    "num = 1.3743\n",
    "print(num)"
   ]
  },
  {
   "cell_type": "code",
   "execution_count": 6,
   "id": "4ad7eaf7",
   "metadata": {},
   "outputs": [
    {
     "name": "stdout",
     "output_type": "stream",
     "text": [
      "2.0\n"
     ]
    }
   ],
   "source": [
    "a = 10\n",
    "b = 5\n",
    "print(a/b)"
   ]
  },
  {
   "cell_type": "code",
   "execution_count": 7,
   "id": "eae90a21",
   "metadata": {},
   "outputs": [
    {
     "name": "stdout",
     "output_type": "stream",
     "text": [
      "0\n"
     ]
    }
   ],
   "source": [
    "#Modulus operator\n",
    "print(10%5)\n"
   ]
  },
  {
   "cell_type": "code",
   "execution_count": 8,
   "id": "bbabef1d",
   "metadata": {},
   "outputs": [
    {
     "name": "stdout",
     "output_type": "stream",
     "text": [
      "4\n"
     ]
    }
   ],
   "source": [
    "#Exponential operator\n",
    "print(2**2)"
   ]
  },
  {
   "cell_type": "code",
   "execution_count": 9,
   "id": "753a61ce",
   "metadata": {},
   "outputs": [
    {
     "name": "stdout",
     "output_type": "stream",
     "text": [
      "True\n",
      "False\n"
     ]
    }
   ],
   "source": [
    "#Comparison operator\n",
    "a = 2\n",
    "b = 2\n",
    "c = 5\n",
    "print(a == b)\n",
    "print(a == c)"
   ]
  },
  {
   "cell_type": "code",
   "execution_count": 10,
   "id": "463e9058",
   "metadata": {},
   "outputs": [
    {
     "name": "stdout",
     "output_type": "stream",
     "text": [
      "True\n",
      "True\n",
      "False\n",
      "False\n",
      "True\n"
     ]
    }
   ],
   "source": [
    "print(a != c)\n",
    "print(a >= b)\n",
    "print(a > b)\n",
    "print(a < b)\n",
    "print(a <= b)"
   ]
  },
  {
   "cell_type": "code",
   "execution_count": 11,
   "id": "087434d0",
   "metadata": {},
   "outputs": [
    {
     "name": "stdout",
     "output_type": "stream",
     "text": [
      "11\n"
     ]
    }
   ],
   "source": [
    "#Assignment operator\n",
    "a = 10\n",
    "a += 1\n",
    "print(a)"
   ]
  },
  {
   "cell_type": "code",
   "execution_count": 12,
   "id": "d7da48a7",
   "metadata": {},
   "outputs": [],
   "source": [
    "#Other operators include Logical, Bitwise, and Membership Operators"
   ]
  },
  {
   "cell_type": "markdown",
   "id": "92b9363d",
   "metadata": {},
   "source": [
    "# Data Structures"
   ]
  },
  {
   "cell_type": "code",
   "execution_count": 13,
   "id": "9bf41773",
   "metadata": {},
   "outputs": [
    {
     "name": "stdout",
     "output_type": "stream",
     "text": [
      "[1, 2, 3, 4, 5]\n"
     ]
    }
   ],
   "source": [
    "# Arrays are a data types used to store a series of data in linear formation\n",
    "numbers = [1, 2, 3, 4, 5]\n",
    "print(numbers)"
   ]
  },
  {
   "cell_type": "code",
   "execution_count": 14,
   "id": "8e0812a9",
   "metadata": {},
   "outputs": [
    {
     "name": "stdout",
     "output_type": "stream",
     "text": [
      "1\n"
     ]
    }
   ],
   "source": [
    "print(numbers[0])"
   ]
  },
  {
   "cell_type": "code",
   "execution_count": 15,
   "id": "0613b470",
   "metadata": {},
   "outputs": [
    {
     "name": "stdout",
     "output_type": "stream",
     "text": [
      "['Saba', 'Fatima', 'Manahil', 'Laiba']\n"
     ]
    }
   ],
   "source": [
    "names = [\"Saba\", \"Fatima\", \"Manahil\", \"Laiba\"]\n",
    "print(names)"
   ]
  },
  {
   "cell_type": "code",
   "execution_count": 16,
   "id": "e5d7650b",
   "metadata": {},
   "outputs": [
    {
     "name": "stdout",
     "output_type": "stream",
     "text": [
      "{'Apples': 3, 'Mangoes': 5, 'Bananas': 8}\n"
     ]
    }
   ],
   "source": [
    "# Dictionaries are another data type used to store key value pairs\n",
    "\n",
    "students = {\"Apples\" : 3,\n",
    "            \"Mangoes\" : 5,\n",
    "           \"Bananas\" : 8}\n",
    "print(students)"
   ]
  },
  {
   "cell_type": "code",
   "execution_count": 17,
   "id": "93586c0d",
   "metadata": {},
   "outputs": [
    {
     "name": "stdout",
     "output_type": "stream",
     "text": [
      "3\n"
     ]
    }
   ],
   "source": [
    "print(students[\"Apples\"])"
   ]
  },
  {
   "cell_type": "markdown",
   "id": "1dfdc476",
   "metadata": {},
   "source": [
    "# Loops"
   ]
  },
  {
   "cell_type": "code",
   "execution_count": 18,
   "id": "2a0efe5a",
   "metadata": {},
   "outputs": [
    {
     "name": "stdout",
     "output_type": "stream",
     "text": [
      "1\n",
      "2\n",
      "3\n",
      "4\n",
      "5\n",
      "6\n",
      "7\n",
      "8\n",
      "9\n",
      "10\n"
     ]
    }
   ],
   "source": [
    "# For Loops\n",
    "\n",
    "for i in range(1, 11):\n",
    "    print(i)"
   ]
  },
  {
   "cell_type": "code",
   "execution_count": 19,
   "id": "2117e6f3",
   "metadata": {},
   "outputs": [
    {
     "name": "stdout",
     "output_type": "stream",
     "text": [
      "0\n",
      "1\n",
      "2\n",
      "3\n",
      "4\n",
      "5\n",
      "6\n",
      "7\n",
      "8\n",
      "9\n",
      "10\n"
     ]
    }
   ],
   "source": [
    "for i in range(11):\n",
    "    print(i)"
   ]
  },
  {
   "cell_type": "code",
   "execution_count": 20,
   "id": "cb3a7067",
   "metadata": {},
   "outputs": [
    {
     "name": "stdout",
     "output_type": "stream",
     "text": [
      "1\n",
      "3\n",
      "5\n",
      "7\n",
      "9\n"
     ]
    }
   ],
   "source": [
    "for i in range(1, 11, 2):\n",
    "    print(i)"
   ]
  },
  {
   "cell_type": "code",
   "execution_count": 21,
   "id": "18311240",
   "metadata": {},
   "outputs": [
    {
     "name": "stdout",
     "output_type": "stream",
     "text": [
      "0\n",
      "2\n",
      "4\n",
      "6\n",
      "8\n",
      "10\n"
     ]
    }
   ],
   "source": [
    "for i in range(0, 11, 2):\n",
    "    print(i)"
   ]
  },
  {
   "cell_type": "code",
   "execution_count": 22,
   "id": "b56d2561",
   "metadata": {},
   "outputs": [
    {
     "name": "stdout",
     "output_type": "stream",
     "text": [
      "apple\n",
      "banana\n",
      "grapes\n"
     ]
    }
   ],
   "source": [
    "fruits = ['apple', 'banana', 'grapes']\n",
    "for fruit in fruits:\n",
    "    print(fruit)"
   ]
  },
  {
   "cell_type": "code",
   "execution_count": 23,
   "id": "d08c8b60",
   "metadata": {},
   "outputs": [
    {
     "name": "stdout",
     "output_type": "stream",
     "text": [
      "1\n",
      "2\n",
      "3\n",
      "4\n",
      "5\n"
     ]
    }
   ],
   "source": [
    "# While loop : needs a condition\n",
    "\n",
    "count = 1\n",
    "while count <= 5:\n",
    "    print(count)\n",
    "    count += 1"
   ]
  },
  {
   "cell_type": "code",
   "execution_count": 24,
   "id": "0074f8a5",
   "metadata": {},
   "outputs": [
    {
     "name": "stdout",
     "output_type": "stream",
     "text": [
      "[1, 2, 3]\n",
      "1\n"
     ]
    }
   ],
   "source": [
    "a = [[1, 2, 3], [4, 5, 6], [7, 8, 9]]\n",
    "print(a[0])\n",
    "print(a[0][0])\n"
   ]
  },
  {
   "cell_type": "code",
   "execution_count": 25,
   "id": "dc7b350c",
   "metadata": {},
   "outputs": [
    {
     "name": "stdout",
     "output_type": "stream",
     "text": [
      "[1, 2, 3]\n",
      "[4, 5, 6]\n",
      "[7, 8, 9]\n"
     ]
    }
   ],
   "source": [
    "for i in a:\n",
    "    print(i)"
   ]
  },
  {
   "cell_type": "code",
   "execution_count": 26,
   "id": "6b52e48f",
   "metadata": {},
   "outputs": [
    {
     "name": "stdout",
     "output_type": "stream",
     "text": [
      "1\n",
      "2\n",
      "3\n",
      "4\n",
      "5\n",
      "6\n",
      "7\n",
      "8\n",
      "9\n"
     ]
    }
   ],
   "source": [
    "for i in a:\n",
    "    for j in i:\n",
    "        print(j)"
   ]
  },
  {
   "cell_type": "markdown",
   "id": "958e2f8d",
   "metadata": {},
   "source": [
    "# Conditionals"
   ]
  },
  {
   "cell_type": "code",
   "execution_count": 27,
   "id": "912495e5",
   "metadata": {},
   "outputs": [
    {
     "name": "stdout",
     "output_type": "stream",
     "text": [
      "Student of DS\n"
     ]
    }
   ],
   "source": [
    "name = 'Saba'\n",
    "\n",
    "if(name == 'Saba'):\n",
    "    \n",
    "    print(\"Student of DS\")\n",
    "else:\n",
    "    print(\"Some other student\")"
   ]
  },
  {
   "cell_type": "code",
   "execution_count": 28,
   "id": "e9923ce2",
   "metadata": {},
   "outputs": [
    {
     "name": "stdout",
     "output_type": "stream",
     "text": [
      "Even Number\n"
     ]
    }
   ],
   "source": [
    "num = 16\n",
    "if(num % 2 != 0):\n",
    "    print(\"Odd Number\")\n",
    "else:\n",
    "    print(\"Even Number\")"
   ]
  },
  {
   "cell_type": "code",
   "execution_count": 29,
   "id": "aac24ca1",
   "metadata": {},
   "outputs": [
    {
     "name": "stdout",
     "output_type": "stream",
     "text": [
      "Divisible by three\n"
     ]
    }
   ],
   "source": [
    "a = 9\n",
    "\n",
    "if(a % 2 == 0):\n",
    "    print(\"Divisible by two\")\n",
    "elif(a % 3 == 0):\n",
    "    print(\"Divisible by three\")\n",
    "elif(a % 5 == 0):\n",
    "    print(\"jkj\")"
   ]
  },
  {
   "cell_type": "markdown",
   "id": "7e99a8f3",
   "metadata": {},
   "source": [
    "# Functions"
   ]
  },
  {
   "cell_type": "code",
   "execution_count": 30,
   "id": "150d2839",
   "metadata": {},
   "outputs": [
    {
     "data": {
      "text/plain": [
       "'\\nFunctions are blocks of reuseable code that can be used to perform a specific task\\n'"
      ]
     },
     "execution_count": 30,
     "metadata": {},
     "output_type": "execute_result"
    }
   ],
   "source": [
    "\"\"\"\n",
    "Functions are blocks of reuseable code that can be used to perform a specific task\n",
    "\"\"\""
   ]
  },
  {
   "cell_type": "code",
   "execution_count": 31,
   "id": "36f5f8cc",
   "metadata": {},
   "outputs": [],
   "source": [
    "def print_name():\n",
    "    print(\"Saba\")"
   ]
  },
  {
   "cell_type": "code",
   "execution_count": 32,
   "id": "30e6419a",
   "metadata": {},
   "outputs": [
    {
     "name": "stdout",
     "output_type": "stream",
     "text": [
      "Saba\n"
     ]
    }
   ],
   "source": [
    "print_name()"
   ]
  },
  {
   "cell_type": "code",
   "execution_count": 33,
   "id": "dd5d98b5",
   "metadata": {},
   "outputs": [
    {
     "name": "stdout",
     "output_type": "stream",
     "text": [
      "64\n"
     ]
    }
   ],
   "source": [
    "def raisedToPowerTwo(num):\n",
    "    print(num ** 2)\n",
    "    \n",
    "raisedToPowerTwo(8)"
   ]
  },
  {
   "cell_type": "code",
   "execution_count": 34,
   "id": "0be50f9a",
   "metadata": {},
   "outputs": [
    {
     "name": "stdout",
     "output_type": "stream",
     "text": [
      "373.15\n"
     ]
    }
   ],
   "source": [
    "def celsius_to_kelvin(celsius):\n",
    "    kelvin = celsius + 273.15\n",
    "    print(kelvin)\n",
    "    \n",
    "celsius_to_kelvin(100)"
   ]
  },
  {
   "cell_type": "code",
   "execution_count": 35,
   "id": "067c0667",
   "metadata": {},
   "outputs": [
    {
     "data": {
      "text/plain": [
       "\"create a function that takes a student's name,\\nhis grades for 4 subjects out of 10 individually,\\nprints out his name, total and \\nrecieved grades and \\naverage\""
      ]
     },
     "execution_count": 35,
     "metadata": {},
     "output_type": "execute_result"
    }
   ],
   "source": [
    "\"\"\"create a function that takes a student's name,\n",
    "his grades for 4 subjects out of 10 individually,\n",
    "prints out his name, total and \n",
    "recieved grades and \n",
    "average\"\"\""
   ]
  },
  {
   "cell_type": "code",
   "execution_count": 36,
   "id": "8bd4488e",
   "metadata": {},
   "outputs": [
    {
     "name": "stdout",
     "output_type": "stream",
     "text": [
      "Taimoor recieved total grades 28 and his average is 7.0\n"
     ]
    }
   ],
   "source": [
    "def student(name, grade1, grade2, grade3, grade4):\n",
    "    total = grade1 + grade2 + grade3 + grade4\n",
    "    average = total / 4\n",
    "    print(name, \"recieved total grades\", total, \"and his average is\", average)    \n",
    "student(\"Taimoor\", 8, 9 , 1, 10)"
   ]
  },
  {
   "cell_type": "code",
   "execution_count": 37,
   "id": "dd6470f8",
   "metadata": {},
   "outputs": [],
   "source": [
    "def calc(name, grade1, grade2, grade3, grade4):\n",
    "    average = (grade1 + grade2 + grade3 + grade4)/4\n",
    "    percentage = ((grade1 + grade2 + grade3 + grade4)/40)*100\n",
    "    \n",
    "    print(name, \"recieved an average of\", average, \"and his percentage is\", percentage)  "
   ]
  },
  {
   "cell_type": "code",
   "execution_count": 38,
   "id": "969950e8",
   "metadata": {},
   "outputs": [
    {
     "name": "stdout",
     "output_type": "stream",
     "text": [
      "Taimoor recieved an average of 7.0 and his percentage is 70.0\n"
     ]
    }
   ],
   "source": [
    "calc(\"Taimoor\", 8, 9 , 1, 10)"
   ]
  },
  {
   "cell_type": "code",
   "execution_count": 39,
   "id": "843bc52d",
   "metadata": {},
   "outputs": [
    {
     "data": {
      "text/plain": [
       "'\\nOOP is anotherr programming paradigm just like functional programming. It uses th concept of objects and classes. Objects \\ncontain data nd code both. It is one of the most used and popular programming paradigm used for professional development \\nand structuring code.\\n\\nA class is a blueprint for creating objects while objects are instances of class\\n'"
      ]
     },
     "execution_count": 39,
     "metadata": {},
     "output_type": "execute_result"
    }
   ],
   "source": [
    "\"\"\"\n",
    "OOP is anotherr programming paradigm just like functional programming. It uses th concept of objects and classes. Objects \n",
    "contain data nd code both. It is one of the most used and popular programming paradigm used for professional development \n",
    "and structuring code.\n",
    "\n",
    "A class is a blueprint for creating objects while objects are instances of class\n",
    "\"\"\""
   ]
  },
  {
   "cell_type": "code",
   "execution_count": 40,
   "id": "8407eae0",
   "metadata": {},
   "outputs": [],
   "source": [
    "#Define a class\n",
    "# __init__ means initialize\n",
    "class Dog:\n",
    "    def __init__(self, name, age):\n",
    "        self.name = name\n",
    "        self.age = age\n",
    "        \n",
    "    #Method\n",
    "    def bark(self):\n",
    "        return \"Woof!\""
   ]
  },
  {
   "cell_type": "markdown",
   "id": "cfbcc805",
   "metadata": {},
   "source": [
    "#Day 2"
   ]
  },
  {
   "cell_type": "code",
   "execution_count": 42,
   "id": "c3da9fe5",
   "metadata": {},
   "outputs": [],
   "source": [
    "#Create objects (instances) of the class\n",
    "dog1 = Dog(\"Buddy\", 3)\n",
    "dog2 = Dog(\"Max\", 5)"
   ]
  },
  {
   "cell_type": "code",
   "execution_count": 43,
   "id": "a453e0d3",
   "metadata": {},
   "outputs": [
    {
     "name": "stdout",
     "output_type": "stream",
     "text": [
      "Buddy\n",
      "5\n",
      "Woof!\n"
     ]
    }
   ],
   "source": [
    "#Access object attributes and methods\n",
    "print(dog1.name)\n",
    "print(dog2.age)\n",
    "print(dog1.bark())"
   ]
  },
  {
   "cell_type": "code",
   "execution_count": null,
   "id": "02a17f51",
   "metadata": {},
   "outputs": [],
   "source": [
    "class Workshop:\n",
    "    def __init__(self, language, instructor, faculty):\n",
    "        self.language = language\n",
    "        self.instructor = instructor\n",
    "        self.faculty = faculty\n",
    "    \n",
    "    def explain(self):\n",
    "        return f\"This workshop on {self.language}"
   ]
  },
  {
   "cell_type": "code",
   "execution_count": null,
   "id": "d7a436c4",
   "metadata": {},
   "outputs": [],
   "source": [
    "class Arithmetic():\n",
    "    def __init__(self, num1, num2):\n",
    "        self.num1 = num1\n",
    "        self.num2 = num2\n",
    "        \n",
    "    def print_nums(self):\n",
    "        return self.num1, self.num2\n",
    "    \n",
    "    def maths(self, operation):\n",
    "        if(operation == \"sum\"):\n",
    "            return self.num1 + self.num2\n",
    "        elif(operation == \"divide\"):\n",
    "            return self.num1 / self.num2\n",
    "        elif(operation == \"multiply\"):\n",
    "            return self.num1 * self.num2\n",
    "        else:\n",
    "            return \"Please assign a proper operator\""
   ]
  },
  {
   "cell_type": "markdown",
   "id": "cbefcaa7",
   "metadata": {},
   "source": [
    "# Four pillars of OOP\n",
    "1 Encapsulation\n",
    "2 Abstraction\n",
    "3 Inheritance\n",
    "4 Polymorphism"
   ]
  },
  {
   "cell_type": "markdown",
   "id": "d886c0f7",
   "metadata": {},
   "source": [
    "Encapsulation refers to the bundling of data (attributes) and methods that operate on the dat into a single unit, known as a class. It restricts access to some of the objct's components, hiding the internal state nd requiring all interaction to occur through an object's methods. This helps to ensure data integrity and prevents unintented external access."
   ]
  },
  {
   "cell_type": "code",
   "execution_count": 44,
   "id": "1d1c1918",
   "metadata": {},
   "outputs": [
    {
     "name": "stdout",
     "output_type": "stream",
     "text": [
      "Toyota 2001\n"
     ]
    }
   ],
   "source": [
    "#Encapsulation\n",
    "class Car:\n",
    "    def __init__(self, make, model):\n",
    "        self.make = make\n",
    "        self.model = model\n",
    "        \n",
    "    def get_info(self):\n",
    "        return f\"{self.make} {self.model}\"\n",
    "    \n",
    "car1 = Car(\"Toyota\", 2001)\n",
    "\n",
    "print(car1.get_info())"
   ]
  },
  {
   "cell_type": "code",
   "execution_count": null,
   "id": "ca17d5d3",
   "metadata": {},
   "outputs": [],
   "source": [
    "#Inheritance\n",
    "class ElectricCar(Car):\n",
    "    def __init__(self, make, model, battery_capacity):\n",
    "        super().__init__(make, model)\n",
    "        self.battery_capacity = battery_capacity\n",
    "        \n",
    "    def charge(self):\n",
    "        return \"Charging the electric car..\"\n",
    "    \n",
    "electric_car = ElectricCar(\"Tesla\", \"Model S\", \"100 kWh\")\n",
    "print()"
   ]
  },
  {
   "cell_type": "code",
   "execution_count": 45,
   "id": "f54da8d4",
   "metadata": {},
   "outputs": [],
   "source": [
    "#Polymorphism\n",
    "class Pet:\n",
    "    def sound(self):\n",
    "        pass\n",
    "\n",
    "class Dog(Pet):\n",
    "    def sound(self):\n",
    "        return \"Woof!\"\n",
    "\n",
    "class Cat(Pet):\n",
    "    def sound(self):\n",
    "        return \"Meow!\""
   ]
  },
  {
   "cell_type": "code",
   "execution_count": 46,
   "id": "1a41d910",
   "metadata": {},
   "outputs": [
    {
     "name": "stdout",
     "output_type": "stream",
     "text": [
      "Meow!\n",
      "Woof!\n"
     ]
    }
   ],
   "source": [
    "pet1 = Cat()\n",
    "pet2 = Dog()\n",
    "\n",
    "print(pet1.sound())\n",
    "print(pet2.sound())"
   ]
  },
  {
   "cell_type": "code",
   "execution_count": null,
   "id": "6ca4300b",
   "metadata": {},
   "outputs": [],
   "source": []
  },
  {
   "cell_type": "code",
   "execution_count": null,
   "id": "c186b56e",
   "metadata": {},
   "outputs": [],
   "source": []
  },
  {
   "cell_type": "markdown",
   "id": "bb32356b",
   "metadata": {},
   "source": [
    "## Numpy (numerical python)"
   ]
  },
  {
   "cell_type": "code",
   "execution_count": 57,
   "id": "67743ec5",
   "metadata": {},
   "outputs": [
    {
     "name": "stdout",
     "output_type": "stream",
     "text": [
      "[1 2 3 4 5]\n",
      "[[1 2 3]\n",
      " [4 5 6]]\n",
      "[[0. 0. 0.]\n",
      " [0. 0. 0.]\n",
      " [0. 0. 0.]]\n",
      "[[1. 1.]\n",
      " [1. 1.]]\n",
      "[0 2 4 6 8]\n",
      "[[0.8678479  0.53899761]\n",
      " [0.54223251 0.78606729]\n",
      " [0.51818337 0.50216293]]\n"
     ]
    }
   ],
   "source": [
    "import numpy as np\n",
    "\n",
    "# Create a 1D array\n",
    "arr1d = np.array([1, 2, 3, 4, 5])\n",
    "print(arr1d)\n",
    "# Create a 2D array\n",
    "arr2d = np.array([[1, 2, 3], [4, 5, 6]])\n",
    "print(arr2d)\n",
    "\n",
    "# Create an array filled with zeros\n",
    "zeros = np.zeros((3, 3))\n",
    "print(zeros)\n",
    "# Create an array filled with ones\n",
    "ones = np.ones((2, 2))\n",
    "print(ones)\n",
    "# Create an array with a range of values\n",
    "rng = np.arange(0, 10, 2)\n",
    "print(rng)\n",
    "# Create an array with random values\n",
    "rand = np.random.rand(3, 2)\n",
    "print(rand)"
   ]
  },
  {
   "cell_type": "code",
   "execution_count": 54,
   "id": "ba147972",
   "metadata": {},
   "outputs": [
    {
     "name": "stdout",
     "output_type": "stream",
     "text": [
      "1\n",
      "2\n",
      "[2 3]\n",
      "[[2 3]\n",
      " [5 6]]\n"
     ]
    }
   ],
   "source": [
    "# Indexing\n",
    "print(arr1d[0]) #Print the first element\n",
    "print(arr2d[0, 1]) #Print the element at first row, second column\n",
    "\n",
    "#Slicing\n",
    "print(arr1d[1:3]) # Print elements from index 1 to 2\n",
    "print(arr2d[:, 1:]) #Print all rows, starting from second column"
   ]
  },
  {
   "cell_type": "code",
   "execution_count": 58,
   "id": "4ada0b06",
   "metadata": {},
   "outputs": [
    {
     "name": "stdout",
     "output_type": "stream",
     "text": [
      "[[1 2 3]\n",
      " [4 5 6]]\n"
     ]
    }
   ],
   "source": [
    "print(arr2d)"
   ]
  },
  {
   "cell_type": "code",
   "execution_count": 59,
   "id": "054c4a8f",
   "metadata": {},
   "outputs": [
    {
     "name": "stdout",
     "output_type": "stream",
     "text": [
      "[[1 4]\n",
      " [2 5]\n",
      " [3 6]]\n"
     ]
    }
   ],
   "source": [
    "print(arr2d.transpose())"
   ]
  },
  {
   "cell_type": "markdown",
   "id": "30e5ff8c",
   "metadata": {},
   "source": [
    "## Pandas (used to read and manipulate data)"
   ]
  },
  {
   "cell_type": "code",
   "execution_count": null,
   "id": "cd4e34b9",
   "metadata": {},
   "outputs": [],
   "source": [
    "import pandas as pd\n",
    "url = \"\"\n",
    "df = pd.reaad_csv(url)\n",
    "df.head()"
   ]
  },
  {
   "cell_type": "code",
   "execution_count": null,
   "id": "2dbb4a6d",
   "metadata": {},
   "outputs": [],
   "source": [
    "df.shape"
   ]
  },
  {
   "cell_type": "code",
   "execution_count": null,
   "id": "9099a246",
   "metadata": {},
   "outputs": [],
   "source": [
    "df.size"
   ]
  },
  {
   "cell_type": "code",
   "execution_count": null,
   "id": "eda143ae",
   "metadata": {},
   "outputs": [],
   "source": [
    "df.dtypes"
   ]
  },
  {
   "cell_type": "markdown",
   "id": "568c5774",
   "metadata": {},
   "source": [
    "## Matplotlib"
   ]
  },
  {
   "cell_type": "code",
   "execution_count": 67,
   "id": "53beaa3d",
   "metadata": {},
   "outputs": [
    {
     "name": "stderr",
     "output_type": "stream",
     "text": [
      "No artists with labels found to put in legend.  Note that artists whose label start with an underscore are ignored when legend() is called with no argument.\n"
     ]
    },
    {
     "data": {
      "image/png": "[encoded data removed]",
      "text/plain": [
       "<Figure size 640x480 with 1 Axes>"
      ]
     },
     "metadata": {},
     "output_type": "display_data"
    }
   ],
   "source": [
    "import matplotlib.pyplot as plt\n",
    "\n",
    "temperatures = [18, 22, 25, 28, 27, 23, 20]\n",
    "hours = [8, 10, 12, 14, 16, 18, 20]\n",
    "\n",
    "plt.plot(hours, temperatures)\n",
    "plt.legend()\n",
    "\n",
    "plt.xlabel(\"Time (Hours)\")\n",
    "plt.ylabel(\"Temperature (C)\")\n",
    "plt.title(\"Temperature variation throughout the day\")\n",
    "plt.show()"
   ]
  },
  {
   "cell_type": "code",
   "execution_count": 68,
   "id": "f1845947",
   "metadata": {},
   "outputs": [
    {
     "data": {
      "image/png": "[encoded data removed]",
      "text/plain": [
       "<Figure size 640x480 with 1 Axes>"
      ]
     },
     "metadata": {},
     "output_type": "display_data"
    }
   ],
   "source": [
    "import matplotlib.pyplot as plt\n",
    "\n",
    "# Data for plotting\n",
    "x = [1, 2, 3, 4, 5]\n",
    "y1 = [1, 4, 9, 16, 25]\n",
    "y2 = [1, 2, 3, 4, 5]\n",
    "y3 = [5, 4, 3, 2, 1]\n",
    "\n",
    "# Plotting the data\n",
    "plt.plot(x, y1, label='Line 1')\n",
    "plt.plot(x, y2, label='Line 2')\n",
    "plt.plot(x, y3, label='Line 3')\n",
    "\n",
    "# Adding labels and title\n",
    "plt.xlabel('X-axis')\n",
    "plt.ylabel('Y-axis')\n",
    "plt.title('Multiple Lines Plot')\n",
    "\n",
    "# Showing legends\n",
    "plt.legend()\n",
    "\n",
    "# Displaying the plot\n",
    "plt.show()\n"
   ]
  },
  {
   "cell_type": "code",
   "execution_count": null,
   "id": "71f55270",
   "metadata": {},
   "outputs": [],
   "source": []
  },
  {
   "cell_type": "code",
   "execution_count": null,
   "id": "4906af4d",
   "metadata": {},
   "outputs": [],
   "source": []
  },
  {
   "cell_type": "code",
   "execution_count": null,
   "id": "8eb5543d",
   "metadata": {},
   "outputs": [],
   "source": []
  },
  {
   "cell_type": "markdown",
   "id": "c6a77684",
   "metadata": {},
   "source": [
    "## Scikit Learn (Sample ML Project to predict molecule's solubility)"
   ]
  },
  {
   "cell_type": "code",
   "execution_count": 71,
   "id": "9d90dcdf",
   "metadata": {},
   "outputs": [],
   "source": [
    "import pandas as pd\n",
    "from sklearn.model_selection import train_test_split\n",
    "from sklearn.linear_model import LinearRegression\n",
    "\n",
    "data = {\n",
    "    'Molecule_Name' : ['Ethanol', 'Methanol', 'Acetone', 'Butanol'],\n",
    "    'Molecular_Weight' : [46.07, 32.04, 58.08, 74.12],\n",
    "    'Solubility(g/L)' : [1000, 1500, 500, 100]\n",
    "}\n",
    "\n",
    "df = pd.DataFrame(data)"
   ]
  },
  {
   "cell_type": "code",
   "execution_count": 72,
   "id": "a1407999",
   "metadata": {},
   "outputs": [
    {
     "data": {
      "text/html": [
       "<div>\n",
       "<style scoped>\n",
       "    .dataframe tbody tr th:only-of-type {\n",
       "        vertical-align: middle;\n",
       "    }\n",
       "\n",
       "    .dataframe tbody tr th {\n",
       "        vertical-align: top;\n",
       "    }\n",
       "\n",
       "    .dataframe thead th {\n",
       "        text-align: right;\n",
       "    }\n",
       "</style>\n",
       "<table border=\"1\" class=\"dataframe\">\n",
       "  <thead>\n",
       "    <tr style=\"text-align: right;\">\n",
       "      <th></th>\n",
       "      <th>Molecule_Name</th>\n",
       "      <th>Molecular_Weight</th>\n",
       "      <th>Solubility(g/L)</th>\n",
       "    </tr>\n",
       "  </thead>\n",
       "  <tbody>\n",
       "    <tr>\n",
       "      <th>0</th>\n",
       "      <td>Ethanol</td>\n",
       "      <td>46.07</td>\n",
       "      <td>1000</td>\n",
       "    </tr>\n",
       "    <tr>\n",
       "      <th>1</th>\n",
       "      <td>Methanol</td>\n",
       "      <td>32.04</td>\n",
       "      <td>1500</td>\n",
       "    </tr>\n",
       "    <tr>\n",
       "      <th>2</th>\n",
       "      <td>Acetone</td>\n",
       "      <td>58.08</td>\n",
       "      <td>500</td>\n",
       "    </tr>\n",
       "    <tr>\n",
       "      <th>3</th>\n",
       "      <td>Butanol</td>\n",
       "      <td>74.12</td>\n",
       "      <td>100</td>\n",
       "    </tr>\n",
       "  </tbody>\n",
       "</table>\n",
       "</div>"
      ],
      "text/plain": [
       "  Molecule_Name  Molecular_Weight  Solubility(g/L)\n",
       "0       Ethanol             46.07             1000\n",
       "1      Methanol             32.04             1500\n",
       "2       Acetone             58.08              500\n",
       "3       Butanol             74.12              100"
      ]
     },
     "execution_count": 72,
     "metadata": {},
     "output_type": "execute_result"
    }
   ],
   "source": [
    "df.head()"
   ]
  },
  {
   "cell_type": "code",
   "execution_count": 73,
   "id": "f3bcec5f",
   "metadata": {},
   "outputs": [
    {
     "data": {
      "text/html": [
       "<style>#sk-container-id-1 {color: black;}#sk-container-id-1 pre{padding: 0;}#sk-container-id-1 div.sk-toggleable {background-color: white;}#sk-container-id-1 label.sk-toggleable__label {cursor: pointer;display: block;width: 100%;margin-bottom: 0;padding: 0.3em;box-sizing: border-box;text-align: center;}#sk-container-id-1 label.sk-toggleable__label-arrow:before {content: \"▸\";float: left;margin-right: 0.25em;color: #696969;}#sk-container-id-1 label.sk-toggleable__label-arrow:hover:before {color: black;}#sk-container-id-1 div.sk-estimator:hover label.sk-toggleable__label-arrow:before {color: black;}#sk-container-id-1 div.sk-toggleable__content {max-height: 0;max-width: 0;overflow: hidden;text-align: left;background-color: #f0f8ff;}#sk-container-id-1 div.sk-toggleable__content pre {margin: 0.2em;color: black;border-radius: 0.25em;background-color: #f0f8ff;}#sk-container-id-1 input.sk-toggleable__control:checked~div.sk-toggleable__content {max-height: 200px;max-width: 100%;overflow: auto;}#sk-container-id-1 input.sk-toggleable__control:checked~label.sk-toggleable__label-arrow:before {content: \"▾\";}#sk-container-id-1 div.sk-estimator input.sk-toggleable__control:checked~label.sk-toggleable__label {background-color: #d4ebff;}#sk-container-id-1 div.sk-label input.sk-toggleable__control:checked~label.sk-toggleable__label {background-color: #d4ebff;}#sk-container-id-1 input.sk-hidden--visually {border: 0;clip: rect(1px 1px 1px 1px);clip: rect(1px, 1px, 1px, 1px);height: 1px;margin: -1px;overflow: hidden;padding: 0;position: absolute;width: 1px;}#sk-container-id-1 div.sk-estimator {font-family: monospace;background-color: #f0f8ff;border: 1px dotted black;border-radius: 0.25em;box-sizing: border-box;margin-bottom: 0.5em;}#sk-container-id-1 div.sk-estimator:hover {background-color: #d4ebff;}#sk-container-id-1 div.sk-parallel-item::after {content: \"\";width: 100%;border-bottom: 1px solid gray;flex-grow: 1;}#sk-container-id-1 div.sk-label:hover label.sk-toggleable__label {background-color: #d4ebff;}#sk-container-id-1 div.sk-serial::before {content: \"\";position: absolute;border-left: 1px solid gray;box-sizing: border-box;top: 0;bottom: 0;left: 50%;z-index: 0;}#sk-container-id-1 div.sk-serial {display: flex;flex-direction: column;align-items: center;background-color: white;padding-right: 0.2em;padding-left: 0.2em;position: relative;}#sk-container-id-1 div.sk-item {position: relative;z-index: 1;}#sk-container-id-1 div.sk-parallel {display: flex;align-items: stretch;justify-content: center;background-color: white;position: relative;}#sk-container-id-1 div.sk-item::before, #sk-container-id-1 div.sk-parallel-item::before {content: \"\";position: absolute;border-left: 1px solid gray;box-sizing: border-box;top: 0;bottom: 0;left: 50%;z-index: -1;}#sk-container-id-1 div.sk-parallel-item {display: flex;flex-direction: column;z-index: 1;position: relative;background-color: white;}#sk-container-id-1 div.sk-parallel-item:first-child::after {align-self: flex-end;width: 50%;}#sk-container-id-1 div.sk-parallel-item:last-child::after {align-self: flex-start;width: 50%;}#sk-container-id-1 div.sk-parallel-item:only-child::after {width: 0;}#sk-container-id-1 div.sk-dashed-wrapped {border: 1px dashed gray;margin: 0 0.4em 0.5em 0.4em;box-sizing: border-box;padding-bottom: 0.4em;background-color: white;}#sk-container-id-1 div.sk-label label {font-family: monospace;font-weight: bold;display: inline-block;line-height: 1.2em;}#sk-container-id-1 div.sk-label-container {text-align: center;}#sk-container-id-1 div.sk-container {/* jupyter's `normalize.less` sets `[hidden] { display: none; }` but bootstrap.min.css set `[hidden] { display: none !important; }` so we also need the `!important` here to be able to override the default hidden behavior on the sphinx rendered scikit-learn.org. See: https://github.com/scikit-learn/scikit-learn/issues/21755 */display: inline-block !important;position: relative;}#sk-container-id-1 div.sk-text-repr-fallback {display: none;}</style><div id=\"sk-container-id-1\" class=\"sk-top-container\"><div class=\"sk-text-repr-fallback\"><pre>LinearRegression()</pre><b>In a Jupyter environment, please rerun this cell to show the HTML representation or trust the notebook. <br />On GitHub, the HTML representation is unable to render, please try loading this page with nbviewer.org.</b></div><div class=\"sk-container\" hidden><div class=\"sk-item\"><div class=\"sk-estimator sk-toggleable\"><input class=\"sk-toggleable__control sk-hidden--visually\" id=\"sk-estimator-id-1\" type=\"checkbox\" checked><label for=\"sk-estimator-id-1\" class=\"sk-toggleable__label sk-toggleable__label-arrow\">LinearRegression</label><div class=\"sk-toggleable__content\"><pre>LinearRegression()</pre></div></div></div></div></div>"
      ],
      "text/plain": [
       "LinearRegression()"
      ]
     },
     "execution_count": 73,
     "metadata": {},
     "output_type": "execute_result"
    }
   ],
   "source": [
    "X = df[['Molecular_Weight']]\n",
    "y = df[['Solubility(g/L)']]\n",
    "\n",
    "X_train, X_test, y_train, y_test = train_test_split(X, y, test_size = 0.2, random_state = 42)\n",
    "\n",
    "model = LinearRegression()\n",
    "model.fit(X_train, y_train)"
   ]
  },
  {
   "cell_type": "code",
   "execution_count": 76,
   "id": "e77bfe6b",
   "metadata": {},
   "outputs": [
    {
     "name": "stdout",
     "output_type": "stream",
     "text": [
      "Predicted solubility for the new molecule: 356.57 g/L\n"
     ]
    }
   ],
   "source": [
    "new_molecule = {'Molecular_Weight' : 65.0}\n",
    "\n",
    "new_molecule_df = pd.DataFrame([new_molecule])\n",
    "\n",
    "predicted_solubility = model.predict(new_molecule_df)[0]\n",
    "\n",
    "print(f\"Predicted solubility for the new molecule: {predicted_solubility[0]:.2f} g/L\")"
   ]
  },
  {
   "cell_type": "code",
   "execution_count": 77,
   "id": "7074675f",
   "metadata": {},
   "outputs": [
    {
     "name": "stdout",
     "output_type": "stream",
     "text": [
      "Root Mean Squared Error: 9742.55\n"
     ]
    }
   ],
   "source": [
    "from sklearn.metrics import mean_squared_error\n",
    "rmse = mean_squared_error(y_test, model.predict(X_test))\n",
    "print(f\"Root Mean Squared Error: {rmse:.2f}\")"
   ]
  },
  {
   "cell_type": "markdown",
   "id": "12a7cf05",
   "metadata": {},
   "source": [
    "## Tensorflow (Celsius to Farenhiet convertor)....Deep Learning"
   ]
  },
  {
   "cell_type": "code",
   "execution_count": 85,
   "id": "850eb890",
   "metadata": {},
   "outputs": [
    {
     "ename": "ModuleNotFoundError",
     "evalue": "No module named 'tensorflow'",
     "output_type": "error",
     "traceback": [
      "\u001b[1;31m---------------------------------------------------------------------------\u001b[0m",
      "\u001b[1;31mModuleNotFoundError\u001b[0m                       Traceback (most recent call last)",
      "Cell \u001b[1;32mIn[85], line 1\u001b[0m\n\u001b[1;32m----> 1\u001b[0m \u001b[38;5;28;01mimport\u001b[39;00m \u001b[38;5;21;01mtensorflow\u001b[39;00m \u001b[38;5;28;01mas\u001b[39;00m \u001b[38;5;21;01mtf\u001b[39;00m\n\u001b[0;32m      2\u001b[0m \u001b[38;5;28;01mimport\u001b[39;00m \u001b[38;5;21;01mnumpy\u001b[39;00m \u001b[38;5;28;01mas\u001b[39;00m \u001b[38;5;21;01mnp\u001b[39;00m\n\u001b[0;32m      4\u001b[0m celsius_q \u001b[38;5;241m=\u001b[39m np\u001b[38;5;241m.\u001b[39marray([\u001b[38;5;241m-\u001b[39m\u001b[38;5;241m40\u001b[39m, \u001b[38;5;241m-\u001b[39m\u001b[38;5;241m10\u001b[39m, \u001b[38;5;241m0\u001b[39m, \u001b[38;5;241m8\u001b[39m, \u001b[38;5;241m15\u001b[39m, \u001b[38;5;241m22\u001b[39m, \u001b[38;5;241m38\u001b[39m], dtype\u001b[38;5;241m=\u001b[39m\u001b[38;5;28mfloat\u001b[39m)\n",
      "\u001b[1;31mModuleNotFoundError\u001b[0m: No module named 'tensorflow'"
     ]
    }
   ],
   "source": [
    "import tensorflow as tf\n",
    "import numpy as np\n",
    "\n",
    "celsius_q = np.array([-40, -10, 0, 8, 15, 22, 38], dtype=float)\n",
    "fahrenheit_a = np.array([-40, 14, 32, 46, 59, 72, 100], dtype=float)\n",
    "\n",
    "# loopig through the celsius input array\n",
    "for i, c in enumerate(celsius_q):\n",
    "    print(\"{} degres Celsois = {} degrees Farrenshiet\".format(c, fahrenheit_a[i]))"
   ]
  },
  {
   "cell_type": "code",
   "execution_count": 83,
   "id": "441b4af1",
   "metadata": {},
   "outputs": [
    {
     "ename": "NameError",
     "evalue": "name 'tf' is not defined",
     "output_type": "error",
     "traceback": [
      "\u001b[1;31m---------------------------------------------------------------------------\u001b[0m",
      "\u001b[1;31mNameError\u001b[0m                                 Traceback (most recent call last)",
      "Cell \u001b[1;32mIn[83], line 1\u001b[0m\n\u001b[1;32m----> 1\u001b[0m layer1 \u001b[38;5;241m=\u001b[39m tf\u001b[38;5;241m.\u001b[39mkeras\u001b[38;5;241m.\u001b[39mlayers\u001b[38;5;241m.\u001b[39mDense\n",
      "\u001b[1;31mNameError\u001b[0m: name 'tf' is not defined"
     ]
    }
   ],
   "source": [
    "layer1 = tf.keras.layers.Dense"
   ]
  },
  {
   "cell_type": "code",
   "execution_count": null,
   "id": "b1465f5a",
   "metadata": {},
   "outputs": [],
   "source": []
  }
 ],
 "metadata": {
  "kernelspec": {
   "display_name": "Python 3 (ipykernel)",
   "language": "python",
   "name": "python3"
  },
  "language_info": {
   "codemirror_mode": {
    "name": "ipython",
    "version": 3
   },
   "file_extension": ".py",
   "mimetype": "text/x-python",
   "name": "python",
   "nbconvert_exporter": "python",
   "pygments_lexer": "ipython3",
   "version": "3.11.5"
  }
 },
 "nbformat": 4,
 "nbformat_minor": 5
}
